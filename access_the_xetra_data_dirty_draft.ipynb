{
 "cells": [
  {
   "cell_type": "code",
   "execution_count": 47,
   "id": "5126dc28",
   "metadata": {},
   "outputs": [],
   "source": [
    "import boto3\n",
    "import pandas as pd\n",
    "from io import StringIO, BytesIO #buffer inmemory to readcsv\n",
    "from datetime import datetime, timedelta"
   ]
  },
  {
   "cell_type": "code",
   "execution_count": 48,
   "id": "0bd74838",
   "metadata": {},
   "outputs": [],
   "source": [
    "arg_date = '2022-01-28'\n",
    "src_format = '%Y-%m-%d'\n",
    "src_bucket = 'deutsche-boerse-xetra-pds'\n",
    "trg_bucket = 'xetra-29012022'\n",
    "columns = ['ISIN', 'Date', 'Time', 'StartPrice', 'MaxPrice', 'MinPrice',\n",
    "       'EndPrice', 'TradedVolume']\n",
    "key = 'xetra_daily_report_' + datetime.today().strftime(\"%Y%m%d_%H%M%S\") + '.parquet'\n"
   ]
  },
  {
   "cell_type": "code",
   "execution_count": 49,
   "id": "0a5c72b0",
   "metadata": {},
   "outputs": [],
   "source": [
    "arg_date_dt = datetime.strptime(arg_date, src_format).date() - timedelta(days=1)"
   ]
  },
  {
   "cell_type": "code",
   "execution_count": 50,
   "id": "c9372403",
   "metadata": {},
   "outputs": [],
   "source": [
    "s3 = boto3.resource('s3')\n",
    "bucket = s3.Bucket(src_bucket)\n",
    "objects = [obj for obj in bucket.objects.all() if datetime.strptime(obj.key.split(\"/\")[0], '%Y-%m-%d').date() >= arg_date_dt]"
   ]
  },
  {
   "cell_type": "code",
   "execution_count": 51,
   "id": "2901e0cb",
   "metadata": {},
   "outputs": [],
   "source": [
    "#bucket_obj1 = bucket.objects.filter(Prefix='2021-03-15')\n",
    "#bucket_obj2 = bucket.objects.filter(Prefix='2021-03-16')\n",
    "#objects = [obj for obj in bucket_obj1] + [obj for obj in bucket_obj2]\n",
    "\n",
    "objects = [obj for obj in bucket.objects.all() if datetime.strptime(obj.key.split(\"/\")[0], '%Y-%m-%d').date() >= arg_date_dt]"
   ]
  },
  {
   "cell_type": "code",
   "execution_count": 52,
   "id": "5378ff12",
   "metadata": {},
   "outputs": [],
   "source": [
    "def csv_to_df(filename):\n",
    "    csv_obj = bucket.Object(key=filename).get().get('Body').read().decode('utf-8')\n",
    "    data = StringIO(csv_obj)\n",
    "    df = pd.read_csv(data, delimiter=\",\")\n",
    "    return df\n",
    "df_all = pd.concat([csv_to_df(obj.key) for obj in objects], ignore_index=True)"
   ]
  },
  {
   "cell_type": "code",
   "execution_count": 53,
   "id": "d32e4dc3",
   "metadata": {},
   "outputs": [
    {
     "data": {
      "text/plain": [
       "Index(['ISIN', 'Mnemonic', 'SecurityDesc', 'SecurityType', 'Currency',\n",
       "       'SecurityID', 'Date', 'Time', 'StartPrice', 'MaxPrice', 'MinPrice',\n",
       "       'EndPrice', 'TradedVolume', 'NumberOfTrades'],\n",
       "      dtype='object')"
      ]
     },
     "execution_count": 53,
     "metadata": {},
     "output_type": "execute_result"
    }
   ],
   "source": [
    "df_all.columns"
   ]
  },
  {
   "cell_type": "code",
   "execution_count": 54,
   "id": "91c53294",
   "metadata": {},
   "outputs": [],
   "source": [
    "df_all = df_all.loc[:, columns]"
   ]
  },
  {
   "cell_type": "code",
   "execution_count": 55,
   "id": "6ca59807",
   "metadata": {},
   "outputs": [],
   "source": [
    "df_all.dropna(inplace=True)"
   ]
  },
  {
   "cell_type": "markdown",
   "id": "f4bf7c64",
   "metadata": {},
   "source": [
    "## Get opening price per ISIN and per day "
   ]
  },
  {
   "cell_type": "code",
   "execution_count": 56,
   "id": "f76c9dfa",
   "metadata": {},
   "outputs": [],
   "source": [
    "df_all['opening_price']= df_all.sort_values(by=['Time']).groupby(['ISIN', 'Date'])['StartPrice'].transform('first')"
   ]
  },
  {
   "cell_type": "markdown",
   "id": "ae8d139f",
   "metadata": {},
   "source": [
    "## Get closing price per ISIN and day"
   ]
  },
  {
   "cell_type": "code",
   "execution_count": 57,
   "id": "02ae1ad1",
   "metadata": {},
   "outputs": [],
   "source": [
    "df_all['closing_price']= df_all.sort_values(by=['Time']).groupby(['ISIN', 'Date'])['StartPrice'].transform('last')"
   ]
  },
  {
   "cell_type": "markdown",
   "id": "7a638e97",
   "metadata": {},
   "source": [
    "## Aggregations"
   ]
  },
  {
   "cell_type": "code",
   "execution_count": 58,
   "id": "690894db",
   "metadata": {},
   "outputs": [],
   "source": [
    "df_all = df_all.groupby(['ISIN', 'Date'], as_index=False).agg(opening_price_eur=('opening_price', 'min'), closing_price_eur=('closing_price', 'min'), minimum_price_eur=('MinPrice', 'min'), maximum_price_eur=('MaxPrice', 'max'), daily_traded_volume=('TradedVolume', 'sum'))"
   ]
  },
  {
   "cell_type": "markdown",
   "id": "0d3cfa7f",
   "metadata": {},
   "source": [
    "## Percent Change Prev Closing "
   ]
  },
  {
   "cell_type": "code",
   "execution_count": 59,
   "id": "51396fd5",
   "metadata": {},
   "outputs": [],
   "source": [
    "df_all['prev_closing_price'] = df_all.sort_values(by=['Date']).groupby(['ISIN'])['closing_price_eur'].shift(1)"
   ]
  },
  {
   "cell_type": "code",
   "execution_count": 60,
   "id": "56b2c7fa",
   "metadata": {},
   "outputs": [],
   "source": [
    "df_all['change_prev_closing_%'] = (df_all['closing_price_eur'] - df_all['prev_closing_price'])/ df_all['prev_closing_price'] * 100"
   ]
  },
  {
   "cell_type": "code",
   "execution_count": 61,
   "id": "8d3fd298",
   "metadata": {},
   "outputs": [],
   "source": [
    "df_all.drop(columns=['prev_closing_price'], inplace=True)"
   ]
  },
  {
   "cell_type": "code",
   "execution_count": 62,
   "id": "0ee85807",
   "metadata": {},
   "outputs": [],
   "source": [
    "df_all = df_all.round(decimals=2)"
   ]
  },
  {
   "cell_type": "code",
   "execution_count": 63,
   "id": "b8cf9f20",
   "metadata": {},
   "outputs": [],
   "source": [
    "df_all = df_all[df_all.Date >= arg_date]"
   ]
  },
  {
   "cell_type": "markdown",
   "id": "ce890475",
   "metadata": {},
   "source": [
    "## Write to S3"
   ]
  },
  {
   "cell_type": "code",
   "execution_count": 64,
   "id": "09fa6c20",
   "metadata": {},
   "outputs": [
    {
     "data": {
      "text/plain": [
       "s3.Object(bucket_name='xetra-29012022', key='xetra_daily_report_20220130_121242.parquet')"
      ]
     },
     "execution_count": 64,
     "metadata": {},
     "output_type": "execute_result"
    }
   ],
   "source": [
    "out_buffer = BytesIO()\n",
    "df_all.to_parquet(out_buffer, index=False)\n",
    "bucket_target = s3.Bucket(trg_bucket)\n",
    "bucket_target.put_object(Body=out_buffer.getvalue(), Key=key)"
   ]
  },
  {
   "cell_type": "markdown",
   "id": "ed97e476",
   "metadata": {},
   "source": [
    "## Read the uploaded file"
   ]
  },
  {
   "cell_type": "code",
   "execution_count": 65,
   "id": "5003785c",
   "metadata": {},
   "outputs": [
    {
     "name": "stdout",
     "output_type": "stream",
     "text": [
      "xetra_daily_report_20220129_115235.parquet\n",
      "xetra_daily_report_20220130_121242.parquet\n"
     ]
    }
   ],
   "source": [
    "for obj in bucket_target.objects.all():\n",
    "    print(obj.key)"
   ]
  },
  {
   "cell_type": "code",
   "execution_count": 66,
   "id": "88a2750c",
   "metadata": {},
   "outputs": [],
   "source": [
    "parquet_obj = bucket_target.Object(key=\"xetra_daily_report_20220129_115235.parquet\").get().get('Body').read()\n",
    "data = BytesIO(parquet_obj)\n",
    "df_report = pd.read_parquet(data)"
   ]
  },
  {
   "cell_type": "code",
   "execution_count": 67,
   "id": "bac733cd",
   "metadata": {},
   "outputs": [
    {
     "data": {
      "text/html": [
       "<div>\n",
       "<style scoped>\n",
       "    .dataframe tbody tr th:only-of-type {\n",
       "        vertical-align: middle;\n",
       "    }\n",
       "\n",
       "    .dataframe tbody tr th {\n",
       "        vertical-align: top;\n",
       "    }\n",
       "\n",
       "    .dataframe thead th {\n",
       "        text-align: right;\n",
       "    }\n",
       "</style>\n",
       "<table border=\"1\" class=\"dataframe\">\n",
       "  <thead>\n",
       "    <tr style=\"text-align: right;\">\n",
       "      <th></th>\n",
       "      <th>ISIN</th>\n",
       "      <th>Date</th>\n",
       "      <th>opening_price_eur</th>\n",
       "      <th>closing_price_eur</th>\n",
       "      <th>minimum_price_eur</th>\n",
       "      <th>maximum_price_eur</th>\n",
       "      <th>daily_traded_volume</th>\n",
       "      <th>change_prev_closing_%</th>\n",
       "    </tr>\n",
       "  </thead>\n",
       "  <tbody>\n",
       "    <tr>\n",
       "      <th>0</th>\n",
       "      <td>AT000000STR1</td>\n",
       "      <td>2022-01-28</td>\n",
       "      <td>38.05</td>\n",
       "      <td>37.00</td>\n",
       "      <td>37.00</td>\n",
       "      <td>38.05</td>\n",
       "      <td>456</td>\n",
       "      <td>0.00</td>\n",
       "    </tr>\n",
       "    <tr>\n",
       "      <th>1</th>\n",
       "      <td>AT00000FACC2</td>\n",
       "      <td>2022-01-28</td>\n",
       "      <td>7.66</td>\n",
       "      <td>7.52</td>\n",
       "      <td>7.52</td>\n",
       "      <td>7.66</td>\n",
       "      <td>610</td>\n",
       "      <td>-1.31</td>\n",
       "    </tr>\n",
       "    <tr>\n",
       "      <th>2</th>\n",
       "      <td>AT0000606306</td>\n",
       "      <td>2022-01-28</td>\n",
       "      <td>25.02</td>\n",
       "      <td>24.66</td>\n",
       "      <td>24.66</td>\n",
       "      <td>25.10</td>\n",
       "      <td>213</td>\n",
       "      <td>-1.67</td>\n",
       "    </tr>\n",
       "    <tr>\n",
       "      <th>3</th>\n",
       "      <td>AT0000609607</td>\n",
       "      <td>2022-01-28</td>\n",
       "      <td>12.56</td>\n",
       "      <td>12.56</td>\n",
       "      <td>12.56</td>\n",
       "      <td>12.56</td>\n",
       "      <td>0</td>\n",
       "      <td>0.48</td>\n",
       "    </tr>\n",
       "    <tr>\n",
       "      <th>4</th>\n",
       "      <td>AT0000644505</td>\n",
       "      <td>2022-01-28</td>\n",
       "      <td>108.20</td>\n",
       "      <td>108.60</td>\n",
       "      <td>108.20</td>\n",
       "      <td>108.80</td>\n",
       "      <td>125</td>\n",
       "      <td>-0.18</td>\n",
       "    </tr>\n",
       "    <tr>\n",
       "      <th>...</th>\n",
       "      <td>...</td>\n",
       "      <td>...</td>\n",
       "      <td>...</td>\n",
       "      <td>...</td>\n",
       "      <td>...</td>\n",
       "      <td>...</td>\n",
       "      <td>...</td>\n",
       "      <td>...</td>\n",
       "    </tr>\n",
       "    <tr>\n",
       "      <th>3163</th>\n",
       "      <td>XS2265370234</td>\n",
       "      <td>2022-01-28</td>\n",
       "      <td>20.78</td>\n",
       "      <td>21.03</td>\n",
       "      <td>20.41</td>\n",
       "      <td>21.03</td>\n",
       "      <td>3697</td>\n",
       "      <td>-0.65</td>\n",
       "    </tr>\n",
       "    <tr>\n",
       "      <th>3164</th>\n",
       "      <td>XS2284324667</td>\n",
       "      <td>2022-01-28</td>\n",
       "      <td>36.27</td>\n",
       "      <td>36.50</td>\n",
       "      <td>36.09</td>\n",
       "      <td>36.50</td>\n",
       "      <td>5903</td>\n",
       "      <td>0.91</td>\n",
       "    </tr>\n",
       "    <tr>\n",
       "      <th>3165</th>\n",
       "      <td>XS2314659447</td>\n",
       "      <td>2022-01-28</td>\n",
       "      <td>8.77</td>\n",
       "      <td>8.58</td>\n",
       "      <td>8.57</td>\n",
       "      <td>8.77</td>\n",
       "      <td>1037</td>\n",
       "      <td>-2.72</td>\n",
       "    </tr>\n",
       "    <tr>\n",
       "      <th>3166</th>\n",
       "      <td>XS2314660700</td>\n",
       "      <td>2022-01-28</td>\n",
       "      <td>20.33</td>\n",
       "      <td>20.25</td>\n",
       "      <td>20.05</td>\n",
       "      <td>20.33</td>\n",
       "      <td>58</td>\n",
       "      <td>-0.34</td>\n",
       "    </tr>\n",
       "    <tr>\n",
       "      <th>3167</th>\n",
       "      <td>XS2376095068</td>\n",
       "      <td>2022-01-28</td>\n",
       "      <td>32.99</td>\n",
       "      <td>33.23</td>\n",
       "      <td>32.77</td>\n",
       "      <td>33.23</td>\n",
       "      <td>0</td>\n",
       "      <td>1.05</td>\n",
       "    </tr>\n",
       "  </tbody>\n",
       "</table>\n",
       "<p>3168 rows × 8 columns</p>\n",
       "</div>"
      ],
      "text/plain": [
       "              ISIN        Date  opening_price_eur  closing_price_eur  \\\n",
       "0     AT000000STR1  2022-01-28              38.05              37.00   \n",
       "1     AT00000FACC2  2022-01-28               7.66               7.52   \n",
       "2     AT0000606306  2022-01-28              25.02              24.66   \n",
       "3     AT0000609607  2022-01-28              12.56              12.56   \n",
       "4     AT0000644505  2022-01-28             108.20             108.60   \n",
       "...            ...         ...                ...                ...   \n",
       "3163  XS2265370234  2022-01-28              20.78              21.03   \n",
       "3164  XS2284324667  2022-01-28              36.27              36.50   \n",
       "3165  XS2314659447  2022-01-28               8.77               8.58   \n",
       "3166  XS2314660700  2022-01-28              20.33              20.25   \n",
       "3167  XS2376095068  2022-01-28              32.99              33.23   \n",
       "\n",
       "      minimum_price_eur  maximum_price_eur  daily_traded_volume  \\\n",
       "0                 37.00              38.05                  456   \n",
       "1                  7.52               7.66                  610   \n",
       "2                 24.66              25.10                  213   \n",
       "3                 12.56              12.56                    0   \n",
       "4                108.20             108.80                  125   \n",
       "...                 ...                ...                  ...   \n",
       "3163              20.41              21.03                 3697   \n",
       "3164              36.09              36.50                 5903   \n",
       "3165               8.57               8.77                 1037   \n",
       "3166              20.05              20.33                   58   \n",
       "3167              32.77              33.23                    0   \n",
       "\n",
       "      change_prev_closing_%  \n",
       "0                      0.00  \n",
       "1                     -1.31  \n",
       "2                     -1.67  \n",
       "3                      0.48  \n",
       "4                     -0.18  \n",
       "...                     ...  \n",
       "3163                  -0.65  \n",
       "3164                   0.91  \n",
       "3165                  -2.72  \n",
       "3166                  -0.34  \n",
       "3167                   1.05  \n",
       "\n",
       "[3168 rows x 8 columns]"
      ]
     },
     "execution_count": 67,
     "metadata": {},
     "output_type": "execute_result"
    }
   ],
   "source": [
    "df_report"
   ]
  }
 ],
 "metadata": {
  "kernelspec": {
   "display_name": "Python 3 (ipykernel)",
   "language": "python",
   "name": "python3"
  },
  "language_info": {
   "codemirror_mode": {
    "name": "ipython",
    "version": 3
   },
   "file_extension": ".py",
   "mimetype": "text/x-python",
   "name": "python",
   "nbconvert_exporter": "python",
   "pygments_lexer": "ipython3",
   "version": "3.9.8"
  }
 },
 "nbformat": 4,
 "nbformat_minor": 5
}
